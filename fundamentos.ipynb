{
 "cells": [
  {
   "cell_type": "code",
   "execution_count": 3,
   "metadata": {},
   "outputs": [],
   "source": [
    "import numpy as np\n",
    "import matplotlib.pyplot as plt"
   ]
  },
  {
   "cell_type": "code",
   "execution_count": null,
   "metadata": {},
   "outputs": [
    {
     "data": {
      "text/plain": [
       "Text(0.5, 0, 'log x')"
      ]
     },
     "execution_count": 9,
     "metadata": {},
     "output_type": "execute_result"
    },
    {
     "data": {
      "image/png": "[encoded data removed]",
      "text/plain": [
       "<Figure size 640x480 with 1 Axes>"
      ]
     },
     "metadata": {},
     "output_type": "display_data"
    }
   ],
   "source": [
    "n=30\n",
    "x=np.linspace(1,15,n)\n",
    "y=np.exp(0.3*x)\n",
    "y2=1.3*x**4\n",
    "#noise=np.random.normal(0,5,n)\n",
    "fig=plt.figure()\n",
    "ax=fig.add_subplot()\n",
    "ax.scatter(x,y)\n",
    "ax.set_yscale(\"log\")\n",
    "# ax.set_xscale(\"log\")\n",
    "ax.set_ylabel(\"log y\")\n",
    "ax.set_xlabel(\"log x\")\n"
   ]
  },
  {
   "cell_type": "code",
   "execution_count": null,
   "metadata": {},
   "outputs": [],
   "source": [
    "import matplotlib.pyplot as plt\n",
    "\n",
    "# Define parameters\n",
    "boat_positions = [2, 8]  # X-coordinates of the boats\n",
    "H = 5  # Height above the seafloor\n",
    "\n",
    "# Define downward force vectors (c_1 and c_2)\n",
    "c_vectors = [(2, H, 0, -2), (8, H, 0, -2)]  # (x, y, dx, dy)\n",
    "\n",
    "# Create figure and axis\n",
    "fig, ax = plt.subplots(figsize=(6, 6))\n",
    "ax.set_xlim(0, 10)\n",
    "ax.set_ylim(0, 10)\n",
    "\n",
    "# Draw boats as simple line segments\n",
    "for x in boat_positions:\n",
    "    ax.plot([x - 1, x + 1], [H, H], 'k', linewidth=2)  # Boat line\n",
    "\n",
    "# Draw downward vectors\n",
    "for i, (x, y, dx, dy) in enumerate(c_vectors, start=1):\n",
    "    ax.arrow(x, y, dx, dy, head_width=0.2, head_length=0.3, fc='r', ec='r')\n",
    "    ax.text(x + 0.2, y + dy - 0.5, f'$c_{i}$', fontsize=12, color='r')\n",
    "\n",
    "# Draw horizontal dashed line at height H\n",
    "ax.axhline(H, color='blue', linestyle='dashed', linewidth=1)\n",
    "\n",
    "# Draw vertical reference line for H\n",
    "ax.plot([0.5, 0.5], [0, H], 'b--', linewidth=1)  # Dashed vertical line\n",
    "ax.arrow(0.5, 0, 0, H-0.5, head_width=0.2, head_length=0.3, fc='b', ec='b')  # Arrowhead at top\n",
    "ax.arrow(0.5, H, 0, -H+0.5, head_width=0.2, head_length=0.3, fc='b', ec='b')  # Arrowhead at bottom\n",
    "ax.text(0.7, H/2, '$H$', fontsize=12, color='blue', verticalalignment='center')  # Label H\n",
    "\n",
    "# Remove ticks and frame for a cleaner look\n",
    "ax.set_xticks([])\n",
    "ax.set_yticks([])\n",
    "ax.set_frame_on(False)\n",
    "\n",
    "# Show plot\n",
    "plt.show()\n",
    "\n"
   ]
  }
 ],
 "metadata": {
  "kernelspec": {
   "display_name": "Python 3",
   "language": "python",
   "name": "python3"
  },
  "language_info": {
   "codemirror_mode": {
    "name": "ipython",
    "version": 3
   },
   "file_extension": ".py",
   "mimetype": "text/x-python",
   "name": "python",
   "nbconvert_exporter": "python",
   "pygments_lexer": "ipython3",
   "version": "3.10.12"
  }
 },
 "nbformat": 4,
 "nbformat_minor": 2
}
