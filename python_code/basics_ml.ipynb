{
 "cells": [
  {
   "cell_type": "code",
   "execution_count": null,
   "metadata": {},
   "outputs": [],
   "source": [
    "import numpy as np\n",
    "import pandas as pd\n",
    "import matplotlib.pyplot as plt\n",
    "import seaborn as sns"
   ]
  },
  {
   "cell_type": "code",
   "execution_count": 2,
   "metadata": {},
   "outputs": [
    {
     "data": {
      "text/html": [
       "<div>\n",
       "<style scoped>\n",
       "    .dataframe tbody tr th:only-of-type {\n",
       "        vertical-align: middle;\n",
       "    }\n",
       "\n",
       "    .dataframe tbody tr th {\n",
       "        vertical-align: top;\n",
       "    }\n",
       "\n",
       "    .dataframe thead th {\n",
       "        text-align: right;\n",
       "    }\n",
       "</style>\n",
       "<table border=\"1\" class=\"dataframe\">\n",
       "  <thead>\n",
       "    <tr style=\"text-align: right;\">\n",
       "      <th></th>\n",
       "      <th>Year</th>\n",
       "      <th>Price</th>\n",
       "      <th>Rainfall</th>\n",
       "    </tr>\n",
       "  </thead>\n",
       "  <tbody>\n",
       "    <tr>\n",
       "      <th>0</th>\n",
       "      <td>1980</td>\n",
       "      <td>0.45</td>\n",
       "      <td>50.17</td>\n",
       "    </tr>\n",
       "    <tr>\n",
       "      <th>1</th>\n",
       "      <td>1981</td>\n",
       "      <td>0.39</td>\n",
       "      <td>44.87</td>\n",
       "    </tr>\n",
       "    <tr>\n",
       "      <th>2</th>\n",
       "      <td>1982</td>\n",
       "      <td>0.46</td>\n",
       "      <td>62.58</td>\n",
       "    </tr>\n",
       "    <tr>\n",
       "      <th>3</th>\n",
       "      <td>1983</td>\n",
       "      <td>0.37</td>\n",
       "      <td>66.26</td>\n",
       "    </tr>\n",
       "    <tr>\n",
       "      <th>4</th>\n",
       "      <td>1984</td>\n",
       "      <td>0.52</td>\n",
       "      <td>50.21</td>\n",
       "    </tr>\n",
       "  </tbody>\n",
       "</table>\n",
       "</div>"
      ],
      "text/plain": [
       "   Year  Price  Rainfall\n",
       "0  1980   0.45     50.17\n",
       "1  1981   0.39     44.87\n",
       "2  1982   0.46     62.58\n",
       "3  1983   0.37     66.26\n",
       "4  1984   0.52     50.21"
      ]
     },
     "execution_count": 2,
     "metadata": {},
     "output_type": "execute_result"
    }
   ],
   "source": [
    "rainfall_data= {\n",
    "'Year':[1980,1981,1982,1983,1984,1985,1986,1987,1988,1989,1990,1991,1992,1993,1994,1995,1996,1997,1998,1999,2000,2001,2002,2003,2004,2005,2006,2007,2008,2009,2010,2011,2012,2013,2014,2015,2016,2017,2018],\n",
    "'Price':[0.45 ,0.39 ,0.46 ,0.37 ,0.52 ,0.50 ,0.50 ,0.52 ,0.56 ,0.53 ,0.56 ,0.65 ,0.52 ,0.56 ,0.55 ,0.64 ,0.59 ,0.58 ,0.61 ,0.64 ,0.62 ,0.71 ,0.74 ,0.86 ,0.87 ,0.89 ,0.96 ,0.91 ,0.93 ,0.93 ,1.02 ,0.98 ,1.04 ,1.13 ,1.25 ,1.23 ,1.17 ,1.32 ,1.39],\n",
    "\"Rainfall\":[50.17, 44.87, 62.58, 66.26, 50.21, 53.73, 54.39, 54.74, 54.27, 50.39, 43.53, 64.47, 58.09, 51.17, 66.8, 61.46, 55.73, 62.63, 58.14, 51.12, 43.16, 54.56, 59.49, 61.11,59.22,62.75,42.63,45.21,55.12,56.05,49.19,48.99,55.51,59.8,59.13,52.86,52.99,58.52,60.52]}\n",
    "rainfall_data = pd.DataFrame(rainfall_data, columns = ['Year', 'Price','Rainfall'])\n",
    "rainfall_data.head()"
   ]
  },
  {
   "cell_type": "code",
   "execution_count": 12,
   "metadata": {},
   "outputs": [
    {
     "name": "stderr",
     "output_type": "stream",
     "text": [
      "/tmp/ipykernel_33608/1711879559.py:2: UserWarning: Ignoring `palette` because no `hue` variable has been assigned.\n",
      "  sns.scatterplot(data=rainfall_data,x=\"Year\",y=\"Price\", palette = 'muted')\n"
     ]
    },
    {
     "data": {
      "text/plain": [
       "<Axes: xlabel='Year', ylabel='Price'>"
      ]
     },
     "execution_count": 12,
     "metadata": {},
     "output_type": "execute_result"
    },
    {
     "data": {
      "image/png": "[encoded data removed]",
      "text/plain": [
       "<Figure size 640x480 with 1 Axes>"
      ]
     },
     "metadata": {},
     "output_type": "display_data"
    }
   ],
   "source": [
    "#plt.scatter(data=rainfall_data,x=\"Year\",y=\"Price\")\n",
    "sns.scatterplot(data=rainfall_data,x=\"Year\",y=\"Price\", palette = 'muted')\n",
    "#¿Se observa tendencia entre Price y rainfall?"
   ]
  },
  {
   "cell_type": "markdown",
   "metadata": {},
   "source": [
    "# Gradiente descendiente"
   ]
  },
  {
   "cell_type": "code",
   "execution_count": null,
   "metadata": {},
   "outputs": [],
   "source": [
    "\n",
    "\n",
    "def grad_desc(alpha:float,w_0:np.array,f,grad_f,tolerance,max_iter):\n",
    "    \"\"\"\n",
    "    Returns minimum of loss function via gradient descent.\n",
    "    Parameters:\n",
    "     -alpha: learning rate.\n",
    "     -w_0: (d,) vector of initial position. \n",
    "     -f: loss function R^d-->R to minimize\n",
    "     -grad_f: gradient of f: R^d-->R^d\n",
    "     -tolerance: termination condition if difference between two iterations objective function (err) is smaller.\n",
    "     -max_iter: maximum iterations.\n",
    "     -armijo: if Armijo's condition is used for line search to determine alpha at each step\n",
    "    Returns:\n",
    "     - minimum of loss function f\"\"\"\n",
    "    w_i=np.copy(w_0)\n",
    "    hist=[w_i]\n",
    "    err=np.inf\n",
    "    iter=0\n",
    "    while err>tolerance:\n",
    "        \n",
    "        if iter>max_iter:\n",
    "            print(\"Max iter reached\")\n",
    "            return np.array(hist)\n",
    "        grad_eval=grad_f(w_i)\n",
    "        w_next=w_i-alpha*grad_eval\n",
    "        #err=np.linalg.norm(w_next-w_i)\n",
    "        err=np.linalg.norm(grad_eval)\n",
    "        w_i=w_next\n",
    "        hist.append(w_i)\n",
    "        iter+=1\n",
    "\n",
    "    return np.array(hist)\n",
    "\n",
    "\n",
    "def loss_gradient_linear(vect_w:np.array,matrix_X:np.array,vect_y:np.array)-> np.array:\n",
    "    \"\"\" \n",
    "    Returns gradient of loss function C(w_vect)=1/(2*n)*np.sum((y_hat-y)**2)\n",
    "    Parameters:\n",
    "     -vect_w: (d,) vector of weights of current iteration in which we evaluate the gradient.\n",
    "     -matrix_X: (n,d) matrix of feature data.\n",
    "     -vect_y: corresponding output vector of each row (observation) from matrix_X.\n",
    "     -linear: True (default) if estimation model is linear regression, False if model is logistic regression.\n",
    "    Returns:\n",
    "     -nabla_C: gradient vector evaluated at x\n",
    "    \"\"\"\n",
    "    n=matrix_X.shape[0]\n",
    "    y_hat=#Predicción del modelo\n",
    "    \n",
    "    return ##"
   ]
  },
  {
   "cell_type": "markdown",
   "metadata": {},
   "source": [
    "# Uso de implementación\n"
   ]
  },
  {
   "cell_type": "code",
   "execution_count": null,
   "metadata": {},
   "outputs": [],
   "source": [
    "# f=lambda x: 0.5*(x[0]-4.5)**2+2.5*(x[1]-2.3)**2\n",
    "# grad_f=lambda x: np.array([x[0]-4.5,5*(x[1]-2.3)])\n",
    "\n",
    "f=lambda x:3*x[0]**2+4*x[1]**2-5*x[0]+7\n",
    "grad_f=lambda x:np.array([6*x[0]-5,8*x[1]])\n",
    "x_0=np.array([1,1])\n",
    "#Solver\n",
    "from scipy.optimize import minimize\n",
    "result=minimize(f,x_0,method=\"trust-constr\",jac=grad_f)\n",
    "print(result.x[0],result.x[1])#[4.5,2.3]\n",
    "\n",
    "#Implemented\n",
    "hist=grad_desc(0.1,x_0,f,grad_f,1e-10,500,armijo=True)\n",
    "print(hist[-1])\n",
    "min_x=result.x[0],result.x[1]\n",
    "min_f=f(min_x)"
   ]
  }
 ],
 "metadata": {
  "kernelspec": {
   "display_name": "ml_env",
   "language": "python",
   "name": "python3"
  },
  "language_info": {
   "codemirror_mode": {
    "name": "ipython",
    "version": 3
   },
   "file_extension": ".py",
   "mimetype": "text/x-python",
   "name": "python",
   "nbconvert_exporter": "python",
   "pygments_lexer": "ipython3",
   "version": "3.10.12"
  }
 },
 "nbformat": 4,
 "nbformat_minor": 2
}
